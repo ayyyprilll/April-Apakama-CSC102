{
 "cells": [
  {
   "cell_type": "code",
   "execution_count": 7,
   "id": "746e03cf",
   "metadata": {},
   "outputs": [
    {
     "name": "stdout",
     "output_type": "stream",
     "text": [
      "enter principal 200.45\n",
      "enter rate 3\n",
      "enter time 5.2\n",
      "simple interest is  31.270199999999996\n"
     ]
    }
   ],
   "source": [
    "# Code for Finding Simple Interest\n",
    "P=float(input(\"enter principal \"))\n",
    "\n",
    "R=float(input(\"enter rate \"))\n",
    "\n",
    "T=float(input(\"enter time \"))\n",
    "\n",
    "s=P*R*T/100\n",
    "\n",
    "print(\"simple interest is \", s)\n",
    "\n",
    "\n",
    " "
   ]
  },
  {
   "cell_type": "code",
   "execution_count": 14,
   "id": "c3ee17f5",
   "metadata": {},
   "outputs": [
    {
     "name": "stdout",
     "output_type": "stream",
     "text": [
      "enter principal 2000.04\n",
      "enter rate 5\n",
      "enter no. of periods 2\n",
      "enter time 12\n",
      "compound interest is  2.2838719249390844e+16\n"
     ]
    }
   ],
   "source": [
    "# Code for Finding Compound Interest\n",
    "P=float(input(\"enter principal \"))\n",
    "\n",
    "R=float(input(\"enter rate \"))\n",
    "\n",
    "n=float(input(\"enter no. of periods \"))\n",
    "\n",
    "t=float(input(\"enter time \"))\n",
    "\n",
    "c= P*(1.0 + R/n)**(n*t)\n",
    "\n",
    "print(\"compound interest is \", c)\n"
   ]
  },
  {
   "cell_type": "code",
   "execution_count": 15,
   "id": "d9d20a7b",
   "metadata": {
    "collapsed": true
   },
   "outputs": [
    {
     "name": "stdout",
     "output_type": "stream",
     "text": [
      "enter period cash paymrnt 15000\n",
      "enter interest rate per period 3\n",
      "total number of periods 5\n",
      "annuity plan is  4995.1171875\n"
     ]
    }
   ],
   "source": [
    "#Code For Finding Annuity Plan\n",
    "PMT=float(input(\"enter period cash paymrnt \"))\n",
    "\n",
    "r=float(input(\"enter interest rate per period \"))\n",
    "\n",
    "n=float(input(\"total number of periods \"))\n",
    "\n",
    "a= PMT*((1 -(1+r)**-n)/r)\n",
    "\n",
    "print(\"annuity plan is \", a)"
   ]
  },
  {
   "cell_type": "code",
   "execution_count": null,
   "id": "aaf24729",
   "metadata": {},
   "outputs": [],
   "source": []
  },
  {
   "cell_type": "code",
   "execution_count": null,
   "id": "17c25f15",
   "metadata": {},
   "outputs": [],
   "source": []
  },
  {
   "cell_type": "code",
   "execution_count": null,
   "id": "f7829a4b",
   "metadata": {},
   "outputs": [],
   "source": []
  }
 ],
 "metadata": {
  "kernelspec": {
   "display_name": "Python 3 (ipykernel)",
   "language": "python",
   "name": "python3"
  },
  "language_info": {
   "codemirror_mode": {
    "name": "ipython",
    "version": 3
   },
   "file_extension": ".py",
   "mimetype": "text/x-python",
   "name": "python",
   "nbconvert_exporter": "python",
   "pygments_lexer": "ipython3",
   "version": "3.10.9"
  }
 },
 "nbformat": 4,
 "nbformat_minor": 5
}
