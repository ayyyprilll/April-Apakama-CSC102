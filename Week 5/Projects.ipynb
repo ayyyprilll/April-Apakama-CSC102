{
 "cells": [
  {
   "cell_type": "code",
   "execution_count": 8,
   "id": "02a7728a",
   "metadata": {
    "scrolled": true
   },
   "outputs": [
    {
     "name": "stdout",
     "output_type": "stream",
     "text": [
      "Name      Age       Height    \n"
     ]
    },
    {
     "ename": "TypeError",
     "evalue": "unsupported format string passed to set.__format__",
     "output_type": "error",
     "traceback": [
      "\u001b[1;31m---------------------------------------------------------------------------\u001b[0m",
      "\u001b[1;31mTypeError\u001b[0m                                 Traceback (most recent call last)",
      "Cell \u001b[1;32mIn[8], line 14\u001b[0m\n\u001b[0;32m     12\u001b[0m \u001b[38;5;66;03m# Print each row of the table\u001b[39;00m\n\u001b[0;32m     13\u001b[0m \u001b[38;5;28;01mfor\u001b[39;00m i \u001b[38;5;129;01min\u001b[39;00m \u001b[38;5;28mrange\u001b[39m(\u001b[38;5;28mlen\u001b[39m(female_name_list)):\n\u001b[1;32m---> 14\u001b[0m     \u001b[38;5;28mprint\u001b[39m(\u001b[38;5;124;43m'\u001b[39;49m\u001b[38;5;132;43;01m{:<10}\u001b[39;49;00m\u001b[38;5;132;43;01m{:<10}\u001b[39;49;00m\u001b[38;5;132;43;01m{:<10}\u001b[39;49;00m\u001b[38;5;124;43m'\u001b[39;49m\u001b[38;5;241;43m.\u001b[39;49m\u001b[43mformat\u001b[49m\u001b[43m(\u001b[49m\u001b[43mfemalename_list\u001b[49m\u001b[43m,\u001b[49m\u001b[43m \u001b[49m\u001b[43mfemaleage_list\u001b[49m\u001b[43m,\u001b[49m\u001b[43m \u001b[49m\u001b[43mfemaleheight_list\u001b[49m\u001b[43m,\u001b[49m\u001b[43m \u001b[49m\u001b[43mfemalescores_list\u001b[49m\u001b[43m)\u001b[49m)\n",
      "\u001b[1;31mTypeError\u001b[0m: unsupported format string passed to set.__format__"
     ]
    }
   ],
   "source": [
    "# Python program to arrange Student Information in tabular form\n",
    "\n",
    "# Define the variables to be displayed in the table\n",
    "femalename_list = {'Samantha', 'Jada', 'Jane', 'Claire', 'Elizabeth', 'Mary', 'Susan', 'Waje', 'Taibat', 'Lilian'}\n",
    "femaleage_list = {'17', '16', '17', '18', '16', '18', '17', '20', '19', '17'}\n",
    "femaleheight_list = {'5.5', '6.0', '5.4','5.9', '5.6', '5.5', '6.1', '6.0', '5.7','5.5'}\n",
    "femalescores_list = {'80', '85', '70', '60', '76', '66', '87', '95', '50', '49'}\n",
    "\n",
    "# Print the header row of the table\n",
    "print('{:<10}{:<10}{:<10}'.format('Name', 'Age', 'Height', 'Scores'))\n",
    "\n",
    "# Print each row of the table\n",
    "for i in range(len(female_name_list)):\n",
    "    print('{:<10}{:<10}{:<10}'.format(femalename_list, femaleage_list, femaleheight_list, femalescores_list))\n",
    "    \n",
    "    \n",
    "    \n",
    "    \n",
    "    \n",
    "    \n",
    "    \n",
    "    "
   ]
  },
  {
   "cell_type": "code",
   "execution_count": 3,
   "id": "866cbadc",
   "metadata": {},
   "outputs": [
    {
     "name": "stdout",
     "output_type": "stream",
     "text": [
      "Name      Age       City      \n",
      "Alice     25        New York  \n",
      "Bob       30        Paris     \n",
      "Charlie   35        London    \n"
     ]
    }
   ],
   "source": [
    "# Define the variables to be displayed in the table\n",
    "name_list = ['Alice', 'Bob', 'Charlie']\n",
    "age_list = [25, 30, 35]\n",
    "city_list = ['New York', 'Paris', 'London']\n",
    "\n",
    "# Print the header row of the table\n",
    "print('{:<10}{:<10}{:<10}'.format('Name', 'Age', 'City'))\n",
    "\n",
    "# Print each row of the table\n",
    "for i in range(len(name_list)):\n",
    "    print('{:<10}{:<10}{:<10}'.format(name_list[i], age_list[i], city_list[i]))"
   ]
  },
  {
   "cell_type": "code",
   "execution_count": null,
   "id": "6e611e28",
   "metadata": {},
   "outputs": [],
   "source": []
  }
 ],
 "metadata": {
  "kernelspec": {
   "display_name": "Python 3 (ipykernel)",
   "language": "python",
   "name": "python3"
  },
  "language_info": {
   "codemirror_mode": {
    "name": "ipython",
    "version": 3
   },
   "file_extension": ".py",
   "mimetype": "text/x-python",
   "name": "python",
   "nbconvert_exporter": "python",
   "pygments_lexer": "ipython3",
   "version": "3.10.9"
  }
 },
 "nbformat": 4,
 "nbformat_minor": 5
}
